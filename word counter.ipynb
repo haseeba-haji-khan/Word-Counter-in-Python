{
 "cells": [
  {
   "cell_type": "code",
   "execution_count": 2,
   "metadata": {},
   "outputs": [
    {
     "name": "stdout",
     "output_type": "stream",
     "text": [
      "The number of words: 11\n",
      "The number of lines: 2\n",
      "The number of characters: 74\n"
     ]
    }
   ],
   "source": [
    "fname=input(\"Enter file name:\")\n",
    "fname=open(fname, \"r\")\n",
    "data=fname.read()\n",
    "def count_words(data):\n",
    "    words=data.split()\n",
    "    num_words=len(words)\n",
    "    return num_words\n",
    "num_words=count_words(data)\n",
    "def count_lines(data):\n",
    "    lines=data.split(\"\\n\")\n",
    "    num_liness=len(lines)\n",
    "    return num_liness\n",
    "def count_char(data):\n",
    "    num_char=len(data)- data.count('\\n')\n",
    "    return num_char\n",
    "num_words=count_words(data)\n",
    "num_lines=count_lines(data)\n",
    "num_char=count_char(data)\n",
    "print(\"The number of words:\",num_words)\n",
    "print(\"The number of lines:\",num_lines)\n",
    "print(\"The number of characters:\",num_char)"
   ]
  }
 ],
 "metadata": {
  "kernelspec": {
   "display_name": "Python 3",
   "language": "python",
   "name": "python3"
  },
  "language_info": {
   "codemirror_mode": {
    "name": "ipython",
    "version": 3
   },
   "file_extension": ".py",
   "mimetype": "text/x-python",
   "name": "python",
   "nbconvert_exporter": "python",
   "pygments_lexer": "ipython3",
   "version": "3.10.6"
  },
  "orig_nbformat": 4
 },
 "nbformat": 4,
 "nbformat_minor": 2
}
